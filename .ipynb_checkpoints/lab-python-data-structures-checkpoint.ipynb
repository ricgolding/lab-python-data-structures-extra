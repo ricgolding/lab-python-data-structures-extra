{
 "cells": [
  {
   "cell_type": "markdown",
   "metadata": {},
   "source": [
    "# Lab | Data Structures "
   ]
  },
  {
   "cell_type": "markdown",
   "metadata": {},
   "source": [
    "## Exercise 1: Working with Lists"
   ]
  },
  {
   "cell_type": "markdown",
   "metadata": {},
   "source": [
    "Imagine you are building a program for a teacher who wants to track the progress of their students throughout the semester. The teacher wants to input the grades of each student one by one, and get a summary of their performance. There are in total 5 students. You are tasked with building the program that will allow the teacher to do this easily.\n",
    "\n",
    "The program will prompt the teacher to enter the grades of each student. Once the teacher has entered all the grades, the program will calculate the total sum of the grades and display it on the screen. Then, the program will create a new list by selecting only the grades of the first, third, and fifth students entered by the teacher, and sort them in ascending order.\n",
    "\n",
    "Finally, the program will print out the new list, along with its length and the number of occurrences of the score 5 in the list. This will give the teacher a good overview of the performance of the selected students, and help them identify any potential issues early on."
   ]
  },
  {
   "cell_type": "markdown",
   "metadata": {},
   "source": [
    "*Hint:*\n",
    "- You can use the input() function to ask the user to enter their information.\n",
    "- Look for list methods to perform the tasks. \n",
    "- Remember, it is possible to get a part of the sequence using:\n",
    "\n",
    "    ```python\n",
    "    sequence[x:y:z]\n",
    "    ```\n",
    "    where x, y, z are integers.\n",
    "\n",
    "    The above returns a new sequence with the following characteristics:\n",
    "\n",
    "    - A sequence with the same type as the original (a slice of a list is a list, a slice of a tuple is a tuple, and a slice of a string is a string).\n",
    "    - A sequence with elements from `sequence [x]` to `sequence [y-1]` (does not include a sequence [y]). By skipping `z` elements each time, it can be omitted if ` z = 1`.\n"
   ]
  },
  {
   "cell_type": "markdown",
   "metadata": {},
   "source": [
    "*Recommended External Resources:*\n",
    "- *[Python Lists](https://www.w3schools.com/python/python_lists.asp)*\n",
    "- *[Python List Methods](https://www.w3schools.com/python/python_ref_list.asp)*\n",
    "- *[Python Built-in Functions](https://docs.python.org/3/library/functions.html)*\n"
   ]
  },
  {
   "cell_type": "code",
   "execution_count": 65,
   "metadata": {},
   "outputs": [
    {
     "name": "stdin",
     "output_type": "stream",
     "text": [
      "Please enter the grade for Pepito:  5.0\n",
      "Please enter the grade for Pepita:  5.0\n",
      "Please enter the grade for Rocio:  9\n",
      "Please enter the grade for Juan:  5.0\n",
      "Please enter the grade for Ric:  9\n"
     ]
    },
    {
     "name": "stdout",
     "output_type": "stream",
     "text": [
      "The total sum of all the grades for ['Pepito', 'Pepita', 'Rocio', 'Juan', 'Ric'] is 33.0\n",
      "New list of selected grades: [5.0, 9.0, 9.0]\n",
      "Length of the new list: 3\n",
      "Number of occurrences of grade 5: 1\n"
     ]
    }
   ],
   "source": [
    "students = ['Pepito', 'Pepita', 'Rocio', 'Juan', 'Ric'] grades = []\n",
    "\n",
    "def get_grade(student):\n",
    "    while True:\n",
    "        try:\n",
    "            grade = float(input(f\"Please enter the grade for {student}: \"))  \n",
    "            return grade\n",
    "        except ValueError:\n",
    "            print(\"Invalid input, please only enter numerical values.\")  \n",
    "\n",
    "\n",
    "for student in students:\n",
    "    grades.append(get_grade(student))\n",
    "\n",
    "\n",
    "total_sum = sum(grades)\n",
    "print(f\"The total sum of all the grades for {students} is {total_sum}\")\n",
    "\n",
    "\n",
    "new_grades = [grades[0], grades[2], grades[4]]\n",
    "\n",
    "\n",
    "new_grades.sort()\n",
    "\n",
    "count = new_grades.count(5)  \n",
    "\n",
    "# Print the results\n",
    "print(f\"New list of selected grades: {new_grades}\")\n",
    "print(f\"Length of the new list: {len(new_grades)}\")\n",
    "print(f\"Number of occurrences of grade 5: {count}\")"
   ]
  },
  {
   "cell_type": "markdown",
   "metadata": {},
   "source": [
    "## Exercise 2: Tuples"
   ]
  },
  {
   "cell_type": "markdown",
   "metadata": {},
   "source": [
    "Imagine you're running a fruit stand and want to keep track of your inventory. Write a Python program that does the following:\n",
    "\n",
    "- Initializes a tuple with 5 different types of fruit.\n",
    "- Outputs the first and last elements of the tuple, so you can see the full range of fruits the store offers.\n",
    "- Replaces the second element of the tuple with a new fruit that the store has recently received, and prints the updated tuple so you can see the changes.\n",
    "- Concatenates a new tuple containing 2 additional fruits to the original tuple, so you can add them to the store inventory, and prints the resulting tuple to see the updated inventory.\n",
    "- Splits the resulting tuple into 2 tuples of 3 elements each (the first tuple contains the first 3 elements, and the second tuple contains the last 3 elements), so you can organize the inventory more effectively.\n",
    "- Combines the 2 tuples from the previous step with the original tuple into a new tuple, and prints the resulting tuple and its length, so you can see the final inventory after all the changes."
   ]
  },
  {
   "cell_type": "markdown",
   "metadata": {},
   "source": [
    "*Recommended External Resources: [Python Tuples Examples and Methods](https://www.w3schools.com/python/python_tuples.asp)*\n",
    "\n"
   ]
  },
  {
   "cell_type": "code",
   "execution_count": 149,
   "metadata": {},
   "outputs": [
    {
     "name": "stdout",
     "output_type": "stream",
     "text": [
      "('strawberry', 'banana', 'apple', 'pear', 'orange')\n",
      "('strawberry', 'kiwi', 'apple', 'pear', 'orange')\n",
      "('strawberry', 'kiwi', 'apple', 'pear', 'orange', 'grape', 'watermelon')\n",
      "('strawberry', 'kiwi', 'apple')\n",
      "('pear', 'orange', 'grape', 'watermelon')\n",
      "('strawberry', 'kiwi', 'apple', 'pear', 'orange', 'grape', 'watermelon') and the total amount of fruits is 7\n"
     ]
    }
   ],
   "source": [
    "# Your code here\n",
    "\n",
    "fruits = ('strawberry','banana','apple','pear','orange')\n",
    "fruits[0:]\n",
    "print(fruits)\n",
    "\n",
    "new_fruit = 'kiwi'\n",
    "fruits = fruits[:1] + (new_fruit,) + fruits[2:]\n",
    "print(fruits)\n",
    "\n",
    "fruits = fruits + ('grape', 'watermelon',)\n",
    "print(fruits)\n",
    "\n",
    "fruits_1 = fruits[:3]\n",
    "print(fruits_1)\n",
    "fruits_2 = fruits[3:]\n",
    "print(fruits_2)\n",
    "\n",
    "fruits = fruits_1 + fruits_2\n",
    "print(f\"{fruits} and the total amount of fruits is {len(fruits)}\")"
   ]
  },
  {
   "cell_type": "markdown",
   "metadata": {},
   "source": [
    "## Exercise 3: Sets"
   ]
  },
  {
   "cell_type": "markdown",
   "metadata": {},
   "source": [
    "Imagine you are a data analyst working for a literature museum. Your manager has given you two poems to analyze, and she wants you to write a Python program to extract useful information from them.\n",
    "\n",
    "Your program should:\n",
    "\n",
    "- Create two sets, one for each poem, containing all unique words in both poems (ignoring case and punctuation).\n",
    "- Print the number of unique words in each set.\n",
    "- Identify and print the unique words present in the first poem but not in the second one.\n",
    "- Identify and print the unique words present in the second poem but not in the first one.\n",
    "- Identify and print the unique words present in both poems and print it in alphabetical order."
   ]
  },
  {
   "cell_type": "markdown",
   "metadata": {},
   "source": [
    "*Recommended External Resources:*\n",
    "- *[Python Sets](https://www.w3schools.com/python/python_sets.asp)* \n",
    "- *[Python Set Methods](https://www.w3schools.com/python/python_ref_set.asp)*\n",
    "- *[Python String Methods](https://www.w3schools.com/python/python_ref_string.asp)*\n"
   ]
  },
  {
   "cell_type": "code",
   "execution_count": 151,
   "metadata": {},
   "outputs": [],
   "source": [
    "poem = \"\"\"Some say the world will end in fire,\n",
    "Some say in ice.\n",
    "From what I’ve tasted of desire\n",
    "I hold with those who favor fire.\n",
    "But if it had to perish twice,\n",
    "I think I know enough of hate\n",
    "To say that for destruction ice\n",
    "Is also great\n",
    "And would suffice.\"\"\"\n",
    "\n",
    "new_poem = \"\"\"Some say life is but a dream,\n",
    "Some say it's a test.\n",
    "From what I've seen and what I deem,\n",
    "I side with those who see it as a quest.\n",
    "\n",
    "But if it had to end today,\n",
    "I think I know enough of love,\n",
    "To say that though it fades away,\n",
    "It's still what we are made of.\"\"\""
   ]
  },
  {
   "cell_type": "code",
   "execution_count": 157,
   "metadata": {},
   "outputs": [
    {
     "name": "stdout",
     "output_type": "stream",
     "text": [
      "Number of unique words in the first poem: 41\n",
      "Number of unique words in the second poem: 42\n",
      "Unique words in the first poem but not in the second: {'for', 'great', 'hate', 'perish', 'in', 'suffice', 'also', 'desire', 'ice', 'destruction', 'the', 'will', 'i’ve', 'favor', 'world', 'tasted', 'twice', 'would', 'hold', 'fire'}\n",
      "Unique words in the second poem but not in the first: {'today', 'see', 'life', 'dream', 'quest', 'test', 'a', 'made', 'as', 'deem', 'we', 'though', 'seen', 'are', 'fades', 'its', 'away', 'love', 'ive', 'side', 'still'}\n",
      "Common words in both poems (sorted alphabetically): ['and', 'but', 'end', 'enough', 'from', 'had', 'i', 'if', 'is', 'it', 'know', 'of', 'say', 'some', 'that', 'think', 'those', 'to', 'what', 'who', 'with']\n"
     ]
    }
   ],
   "source": [
    "# Your code here\n",
    "def extract_unique_words(poem_text):\n",
    "    poem_text = poem_text.lower()\n",
    "    poem_text = poem_text.translate(str.maketrans('', '', string.punctuation))\n",
    "    words = poem_text.split()\n",
    "    unique_words = set(words)\n",
    "    return unique_words\n",
    "\n",
    "poem_words = extract_unique_words(poem)\n",
    "new_poem_words = extract_unique_words(new_poem)\n",
    "\n",
    "# 1. Print the number of unique words in each poem\n",
    "print(f\"Number of unique words in the first poem: {len(poem_words)}\")\n",
    "print(f\"Number of unique words in the second poem: {len(new_poem_words)}\")\n",
    "\n",
    "# 2. Unique words in the first poem but not in the second\n",
    "unique_in_poem_1 = poem_words - new_poem_words\n",
    "print(f\"Unique words in the first poem but not in the second: {unique_in_poem_1}\")\n",
    "\n",
    "# 3. Unique words in the second poem but not in the first\n",
    "unique_in_poem_2 = new_poem_words - poem_words\n",
    "print(f\"Unique words in the second poem but not in the first: {unique_in_poem_2}\")\n",
    "\n",
    "# 4. Common words in both poems (sorted alphabetically)\n",
    "common_words = poem_words & new_poem_words\n",
    "print(f\"Common words in both poems (sorted alphabetically): {sorted(common_words)}\")"
   ]
  },
  {
   "cell_type": "markdown",
   "metadata": {},
   "source": [
    "## Exercise 4: Dictionaries"
   ]
  },
  {
   "cell_type": "markdown",
   "metadata": {},
   "source": [
    "Consider the following dictionary of students with their scores in different subjects. One of the students, Bob, has complained about his score in Philosophy and, after reviewing it, the teacher has decided to update his score to 100. Write a Python program that updates Bob's score in Philosophy to 100 in the dictionary."
   ]
  },
  {
   "cell_type": "markdown",
   "metadata": {},
   "source": [
    "*Recommended External Resources: [Python Dictionary Examples and Methods](https://www.w3schools.com/python/python_dictionaries.asp)*\n"
   ]
  },
  {
   "cell_type": "code",
   "execution_count": 99,
   "metadata": {},
   "outputs": [],
   "source": [
    "grades = {'Alice': {'Physics': 75, 'Math': 85, 'Chemistry': 60, 'Philosophy': 90}, 'Bob': {'Physics': 75, 'Math': 85, 'Chemistry': 60, 'Philosophy': 90}}"
   ]
  },
  {
   "cell_type": "code",
   "execution_count": 103,
   "metadata": {},
   "outputs": [
    {
     "name": "stdout",
     "output_type": "stream",
     "text": [
      "{'Alice': {'Physics': 75, 'Math': 85, 'Chemistry': 60, 'Philosophy': 90}, 'Bob': {'Physics': 75, 'Math': 85, 'Chemistry': 60, 'Philosophy': 100}}\n"
     ]
    }
   ],
   "source": [
    "# Your code here\n",
    "\n",
    "grades['Bob']['Philosophy'] = 100\n",
    "print(grades)"
   ]
  },
  {
   "cell_type": "markdown",
   "metadata": {},
   "source": [
    "## Bonus"
   ]
  },
  {
   "cell_type": "markdown",
   "metadata": {},
   "source": [
    "1. Below are the two lists. Write a Python program to convert them into a dictionary in a way that item from list1 is the key and item from list2 is the value."
   ]
  },
  {
   "cell_type": "markdown",
   "metadata": {},
   "source": [
    "*Hint: Use the zip() function. This function takes two or more iterables (like list, dict, string), aggregates them in a tuple, and returns it. Afterwards, you can use a function that turns a tuple into a dictionary.*"
   ]
  },
  {
   "cell_type": "markdown",
   "metadata": {},
   "source": [
    "*Recommended External Resources: [Python Zip Function](https://www.w3schools.com/python/ref_func_zip.asp)*\n"
   ]
  },
  {
   "cell_type": "code",
   "execution_count": 107,
   "metadata": {},
   "outputs": [
    {
     "name": "stdout",
     "output_type": "stream",
     "text": [
      "{'Physics': 75, 'Math': 85, 'Chemistry': 60, 'Philosophy': 90}\n"
     ]
    }
   ],
   "source": [
    "keys = ['Physics', 'Math', 'Chemistry', 'Philosophy']\n",
    "values = [75, 85, 60,90]\n",
    "\n",
    "# Your code here\n",
    "key_values = dict(zip(keys,values))\n",
    "print(key_values)"
   ]
  },
  {
   "cell_type": "markdown",
   "metadata": {},
   "source": [
    "2. Get the subject with the minimum score from the previous dictionary."
   ]
  },
  {
   "cell_type": "markdown",
   "metadata": {},
   "source": [
    "*Hint: Use the built-in function min(). Read about the parameter key.*"
   ]
  },
  {
   "cell_type": "markdown",
   "metadata": {},
   "source": [
    "\n",
    "*Recommended External Resources:*\n",
    "- *[Python Min Function Official Documentation](https://docs.python.org/3.8/library/functions.html#min)*\n",
    "- *[How to use key function in max and min in Python](https://medium.com/analytics-vidhya/how-to-use-key-function-in-max-and-min-in-python-1fdbd661c59c)*"
   ]
  },
  {
   "cell_type": "code",
   "execution_count": 113,
   "metadata": {},
   "outputs": [
    {
     "name": "stdout",
     "output_type": "stream",
     "text": [
      "The minimum score is: 60\n"
     ]
    }
   ],
   "source": [
    "# Your code here\n",
    "\n",
    "min_score = min(key_values.values())\n",
    "print(f\"The minimum score is: {min_score}\")"
   ]
  },
  {
   "cell_type": "code",
   "execution_count": null,
   "metadata": {},
   "outputs": [],
   "source": []
  }
 ],
 "metadata": {
  "kernelspec": {
   "display_name": "Python 3 (ipykernel)",
   "language": "python",
   "name": "python3"
  },
  "language_info": {
   "codemirror_mode": {
    "name": "ipython",
    "version": 3
   },
   "file_extension": ".py",
   "mimetype": "text/x-python",
   "name": "python",
   "nbconvert_exporter": "python",
   "pygments_lexer": "ipython3",
   "version": "3.12.7"
  }
 },
 "nbformat": 4,
 "nbformat_minor": 4
}
